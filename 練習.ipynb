{
 "cells": [
  {
   "cell_type": "markdown",
   "metadata": {},
   "source": [
    "九九乘法表 py"
   ]
  },
  {
   "cell_type": "code",
   "execution_count": 7,
   "metadata": {},
   "outputs": [
    {
     "name": "stdout",
     "output_type": "stream",
     "text": [
      "1x1=1\t1x2=2\t1x3=3\t1x4=4\t1x5=5\t1x6=6\t1x7=7\t1x8=8\t1x9=9\t\n",
      "2x1=1\t2x2=2\t2x3=3\t2x4=4\t2x5=5\t2x6=6\t2x7=7\t2x8=8\t2x9=9\t\n",
      "3x1=1\t3x2=2\t3x3=3\t3x4=4\t3x5=5\t3x6=6\t3x7=7\t3x8=8\t3x9=9\t\n",
      "4x1=1\t4x2=2\t4x3=3\t4x4=4\t4x5=5\t4x6=6\t4x7=7\t4x8=8\t4x9=9\t\n",
      "5x1=1\t5x2=2\t5x3=3\t5x4=4\t5x5=5\t5x6=6\t5x7=7\t5x8=8\t5x9=9\t\n",
      "6x1=1\t6x2=2\t6x3=3\t6x4=4\t6x5=5\t6x6=6\t6x7=7\t6x8=8\t6x9=9\t\n",
      "7x1=1\t7x2=2\t7x3=3\t7x4=4\t7x5=5\t7x6=6\t7x7=7\t7x8=8\t7x9=9\t\n",
      "8x1=1\t8x2=2\t8x3=3\t8x4=4\t8x5=5\t8x6=6\t8x7=7\t8x8=8\t8x9=9\t\n",
      "9x1=1\t9x2=2\t9x3=3\t9x4=4\t9x5=5\t9x6=6\t9x7=7\t9x8=8\t9x9=9\t\n"
     ]
    }
   ],
   "source": [
    "for n in range(1,10):\n",
    "    for i in range(1,10):\n",
    "     print(f'{n}x{i}={1*i}',end='\\t')\n",
    "    print()"
   ]
  },
  {
   "cell_type": "markdown",
   "metadata": {},
   "source": [
    "求兩點中的距離"
   ]
  },
  {
   "cell_type": "code",
   "execution_count": 10,
   "metadata": {},
   "outputs": [
    {
     "name": "stdout",
     "output_type": "stream",
     "text": [
      "5.0990195135927845\n"
     ]
    }
   ],
   "source": [
    "import math\n",
    "def dist(x,y):\n",
    "    x1,y1=x\n",
    "    x2,y2=y\n",
    "    return math.sqrt((x1-x2)**2+(y1-y2)**2)\n",
    "\n",
    "x=(3,5)\n",
    "y=(8,4)\n",
    "\n",
    "a=dist(x,y)\n",
    "print(a)"
   ]
  },
  {
   "cell_type": "markdown",
   "metadata": {},
   "source": [
    "透過 def 包裝程式碼，使得我們要做類似運算（例如 1 加到 100）時只要呼叫函式即可。"
   ]
  },
  {
   "cell_type": "code",
   "execution_count": 12,
   "metadata": {},
   "outputs": [
    {
     "data": {
      "text/plain": [
       "1540"
      ]
     },
     "execution_count": 12,
     "metadata": {},
     "output_type": "execute_result"
    }
   ],
   "source": [
    "def a(n1,n2):\n",
    "    sum=0\n",
    "    for x in range(n1,n2+1):\n",
    "        sum+=x\n",
    "    return(sum)\n",
    "a(1,55)\n",
    "    "
   ]
  },
  {
   "cell_type": "code",
   "execution_count": 13,
   "metadata": {},
   "outputs": [
    {
     "data": {
      "text/plain": [
       "33"
      ]
     },
     "execution_count": 13,
     "metadata": {},
     "output_type": "execute_result"
    }
   ],
   "source": [
    "c=int(input()) #可以自行假設數字\n",
    "b=int(input())\n",
    "def a(n1,n2):\n",
    "    sum=0\n",
    "    for x in range(n1,n2+1):\n",
    "        sum+=x\n",
    "    return(sum)\n",
    "a(c,b)\n",
    "    "
   ]
  },
  {
   "cell_type": "markdown",
   "metadata": {},
   "source": [
    "撰寫一個函式 filter_even_numbers(numbers: list) -> list，接受一個整數列表，回傳其中的偶數數字。"
   ]
  },
  {
   "cell_type": "code",
   "execution_count": 29,
   "metadata": {},
   "outputs": [
    {
     "name": "stdout",
     "output_type": "stream",
     "text": [
      "2\n",
      "4\n",
      "6\n"
     ]
    }
   ],
   "source": [
    "\n",
    "def filter_even_numbers(numbers: list):   #告訴開發者numbers是list\n",
    "    for x in numbers:\n",
    "        if x %2==0:\n",
    "            print(x)\n",
    "\n",
    "a=[1,2,3,4,5,6]\n",
    "filter_even_numbers(a)"
   ]
  },
  {
   "cell_type": "markdown",
   "metadata": {},
   "source": [
    "撰寫一個函式 reverse_string(s: str) -> str，回傳輸入字串的反轉結果。"
   ]
  },
  {
   "cell_type": "code",
   "execution_count": 41,
   "metadata": {},
   "outputs": [
    {
     "name": "stdout",
     "output_type": "stream",
     "text": [
      "olleh\n"
     ]
    }
   ],
   "source": [
    "def  reverse_string(a: str) :\n",
    "    print(a[::-1])\n",
    "\n",
    "a='hello'\n",
    "reverse_string(a)"
   ]
  },
  {
   "cell_type": "markdown",
   "metadata": {},
   "source": [
    "撰寫一個函式 generate_fibonacci(n: int) -> list，生成前 n 個費氏數列的數字"
   ]
  },
  {
   "cell_type": "code",
   "execution_count": 16,
   "metadata": {},
   "outputs": [
    {
     "name": "stdout",
     "output_type": "stream",
     "text": [
      "0\n",
      "1\n",
      "2\n",
      "3\n",
      "4\n",
      "5\n"
     ]
    }
   ],
   "source": [
    "def  generate_fibonacci(n: int)-> list :\n",
    "    for x in range(6):\n",
    "        print(x)\n",
    "\n",
    "generate_fibonacci(a)"
   ]
  },
  {
   "cell_type": "code",
   "execution_count": 1,
   "metadata": {},
   "outputs": [
    {
     "ename": "SyntaxError",
     "evalue": "incomplete input (3348053529.py, line 2)",
     "output_type": "error",
     "traceback": [
      "\u001b[1;36m  Cell \u001b[1;32mIn[1], line 2\u001b[1;36m\u001b[0m\n\u001b[1;33m    for b in range(1,9):\u001b[0m\n\u001b[1;37m                        ^\u001b[0m\n\u001b[1;31mSyntaxError\u001b[0m\u001b[1;31m:\u001b[0m incomplete input\n"
     ]
    }
   ],
   "source": [
    "for a in range(1,9):\n",
    "    for b in range(1,9):\n",
    "        print(a,'x',b,'=',a*b,end='')\n",
    "print(0)"
   ]
  }
 ],
 "metadata": {
  "kernelspec": {
   "display_name": "Python 3",
   "language": "python",
   "name": "python3"
  },
  "language_info": {
   "codemirror_mode": {
    "name": "ipython",
    "version": 3
   },
   "file_extension": ".py",
   "mimetype": "text/x-python",
   "name": "python",
   "nbconvert_exporter": "python",
   "pygments_lexer": "ipython3",
   "version": "3.12.9"
  }
 },
 "nbformat": 4,
 "nbformat_minor": 2
}
